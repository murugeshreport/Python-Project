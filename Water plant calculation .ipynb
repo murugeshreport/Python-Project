{
 "cells": [
  {
   "cell_type": "code",
   "execution_count": 2,
   "id": "2eb6a6a6",
   "metadata": {},
   "outputs": [],
   "source": [
    "import numpy as np"
   ]
  },
  {
   "cell_type": "code",
   "execution_count": 352,
   "id": "389d1100",
   "metadata": {},
   "outputs": [],
   "source": [
    "def normality(strength,molecular_weight,valume):\n",
    "    n = (strength*molecular_weight*valume)\n",
    "    nor = n/1000\n",
    "    return \"You will prepare normality take weight of solution\" +\"  \"+str(nor) +\" \"+\"Gram\""
   ]
  },
  {
   "cell_type": "code",
   "execution_count": 353,
   "id": "89c7b4b0",
   "metadata": {},
   "outputs": [
    {
     "data": {
      "text/plain": [
       "'You will prepare normality take weight of solution  0.7998000000000001 Gram'"
      ]
     },
     "execution_count": 353,
     "metadata": {},
     "output_type": "execute_result"
    }
   ],
   "source": [
    "normality(0.1,39.99,200)"
   ]
  },
  {
   "cell_type": "code",
   "execution_count": 234,
   "id": "b5cd2662",
   "metadata": {},
   "outputs": [],
   "source": [
    "def alkanity(P,M,strength,watersample):\n",
    "    mid = M/2\n",
    "    if (P == 0):\n",
    "        s1 = (M*strength*50*1000)/watersample\n",
    "        return \"Present in HCO3-\" +\" \"+ str(s1) + \"ppm\"\n",
    "    elif P == M :\n",
    "        s2 = (M*strength*50*1000)/watersample\n",
    "        return \"Present in OH-\" +\" \"+ str(s2) + \"ppm\"\n",
    "    elif P == mid:\n",
    "        s3 = (M*strength*50*1000)/watersample\n",
    "        return \"Present in CO3 2-\" +\" \"+ str(s3) + \"ppm\"\n",
    "    elif P > mid:\n",
    "        s4 = 2*(P) - M\n",
    "        s4 = s4*strength*50*1000/watersample \n",
    "        s5 = 2*(M-P)\n",
    "        s5 = s5*strength*50*1000/watersample\n",
    "\n",
    "        return \"Present in OH-\"+\" \"+str(s4)+\" ppm\"+\" and  \"+\"present in CO3 2-\"+\"  \"+str(s5)+\" ppm\"\n",
    "    else:\n",
    "        s6 = M - 2*(P) \n",
    "        s6 = s6* strength*50*1000/watersample\n",
    "        \n",
    "        s7 = 2*(P) \n",
    "        s7 = s7*strength*50*1000/watersample\n",
    "        return \"Present in HCO3-\"+\" \"+str(s6)+\" ppm and \"+\"present in CO3 2-\"+\" \"+str(s7)+\" ppm\"\n",
    "    \n",
    "        "
   ]
  },
  {
   "cell_type": "code",
   "execution_count": 243,
   "id": "38c8471a",
   "metadata": {},
   "outputs": [
    {
     "name": "stdout",
     "output_type": "stream",
     "text": [
      "1 , 3\n"
     ]
    }
   ],
   "source": [
    "print(str(1)+\" , \"+str(3))"
   ]
  },
  {
   "cell_type": "code",
   "execution_count": 246,
   "id": "ed7ce24d",
   "metadata": {},
   "outputs": [
    {
     "data": {
      "text/plain": [
       "'Present in HCO3- 80.0 ppm and present in CO3 2- 160.0 ppm'"
      ]
     },
     "execution_count": 246,
     "metadata": {},
     "output_type": "execute_result"
    }
   ],
   "source": [
    "alkanity(4,12,0.02,50)"
   ]
  },
  {
   "cell_type": "code",
   "execution_count": 238,
   "id": "e55905f4",
   "metadata": {},
   "outputs": [
    {
     "data": {
      "text/plain": [
       "6.0"
      ]
     },
     "execution_count": 238,
     "metadata": {},
     "output_type": "execute_result"
    }
   ],
   "source": [
    "12/2"
   ]
  },
  {
   "cell_type": "code",
   "execution_count": 229,
   "id": "72899f5e",
   "metadata": {},
   "outputs": [],
   "source": [
    "def COD(blank,burette_reading,strength,sample):\n",
    "    cod = (blank-burette_reading)\n",
    "    result = (cod*strength*8000)/sample\n",
    "    return \"COD of sample  \"+ str(result)\n",
    "    "
   ]
  },
  {
   "cell_type": "code",
   "execution_count": 230,
   "id": "1f46856e",
   "metadata": {},
   "outputs": [
    {
     "data": {
      "text/plain": [
       "'COD of sample  -639.9999999999999'"
      ]
     },
     "execution_count": 230,
     "metadata": {},
     "output_type": "execute_result"
    }
   ],
   "source": [
    "COD(12.4,15.6,0.05,2)"
   ]
  },
  {
   "cell_type": "code",
   "execution_count": 103,
   "id": "381d8c31",
   "metadata": {},
   "outputs": [],
   "source": [
    "def Dissolved_oxygen(burette_reading,strength,sample):\n",
    "    nor = (burette_reading*strength)/sample\n",
    "    result = (nor*8*1000)\n",
    "    return \"Dissolved Oxygen of given solution  \" +str(result)"
   ]
  },
  {
   "cell_type": "code",
   "execution_count": 104,
   "id": "02838241",
   "metadata": {},
   "outputs": [
    {
     "data": {
      "text/plain": [
       "'Dissolved Oxygen of given solution  198.40000000000003'"
      ]
     },
     "execution_count": 104,
     "metadata": {},
     "output_type": "execute_result"
    }
   ],
   "source": [
    "Dissolved_oxygen(12.4,0.02,10)"
   ]
  },
  {
   "cell_type": "code",
   "execution_count": 112,
   "id": "16384a86",
   "metadata": {},
   "outputs": [],
   "source": [
    "def Chloride(burette_reading,strength,sample):\n",
    "    result = (burette_reading*strength*35.45*1000)/sample\n",
    "    return \"Chloride in given solution  \"+str(result)+\" ppm\""
   ]
  },
  {
   "cell_type": "code",
   "execution_count": 115,
   "id": "0b74617a",
   "metadata": {},
   "outputs": [
    {
     "data": {
      "text/plain": [
       "'Chloride in given solution  2197.9000000000005 ppm'"
      ]
     },
     "execution_count": 115,
     "metadata": {},
     "output_type": "execute_result"
    }
   ],
   "source": [
    "Chloride(12.4,0.1,20)"
   ]
  },
  {
   "cell_type": "code",
   "execution_count": 278,
   "id": "81f35cf2",
   "metadata": {},
   "outputs": [],
   "source": [
    "def TotalHardness(burette_reading,strength,sample):\n",
    "    result = (burette_reading*strength*100*1000)/sample\n",
    "    return \"total hardness of given sample {:.3f}\".format(result)+\" ppm\""
   ]
  },
  {
   "cell_type": "code",
   "execution_count": 279,
   "id": "bad39b83",
   "metadata": {},
   "outputs": [
    {
     "data": {
      "text/plain": [
       "'total hardness of given sample 248.000 ppm'"
      ]
     },
     "execution_count": 279,
     "metadata": {},
     "output_type": "execute_result"
    }
   ],
   "source": [
    "TotalHardness(12.4,0.01,50)"
   ]
  },
  {
   "cell_type": "code",
   "execution_count": 1,
   "id": "ef72a6de",
   "metadata": {},
   "outputs": [],
   "source": [
    "from tkinter import *\n",
    "from tkinter import ttk\n",
    "import tkinter as tk"
   ]
  },
  {
   "cell_type": "code",
   "execution_count": 3,
   "id": "99e110ce",
   "metadata": {},
   "outputs": [],
   "source": [
    "\n",
    " \n",
    "def exit():\n",
    "    window.destroy()\n",
    "def getchloride():\n",
    "    d = float(e1.get())\n",
    "    m = float(e2.get())\n",
    "    y = float(e3.get())\n",
    "    result = (d*m*35.45*1000)/y\n",
    "    report = \"{:.4f}\".format(result)+ \" ppm\"\n",
    "    t1.config(state='normal')\n",
    "    t1.delete('1.0', tk.END)\n",
    "    t1.insert(tk.END,report)\n",
    "    t1.config(state='disabled')\n",
    "    \n",
    "def gethardness():\n",
    "    d1 = float(e11.get())\n",
    "    m2 = float(e22.get())\n",
    "    y3 = float(e33.get())\n",
    "    result = (d1*m2*100*1000)/y3\n",
    "    report = \"{:.4f}\".format(result)+ \" ppm\"\n",
    "    t11.config(state='normal')\n",
    "    t11.delete('1.0', tk.END)\n",
    "    t11.insert(tk.END,report)\n",
    "    t11.config(state='disabled')\n",
    "\n",
    "def getdo():\n",
    "    d11 = float(e111.get())\n",
    "    m22 = float(e222.get())\n",
    "    y33 = float(e333.get())\n",
    "    result = (d11*m22)/y33\n",
    "    ss = (result*8*1000)\n",
    "    report = \"{:.4f}\".format(ss)+ \" ppm\"\n",
    "    t111.config(state='normal')\n",
    "    t111.delete('1.0', tk.END)\n",
    "    t111.insert(tk.END,report)\n",
    "    t111.config(state='disabled')\n",
    "\n",
    "def getcod():\n",
    "    d111 = float(e1111.get())\n",
    "    m222 = float(e2222.get())\n",
    "    y333 = float(e3333.get())\n",
    "    y444 = float(e4444.get())\n",
    "    s1 = (d111-m222)\n",
    "    s2 = (s1*y333*8000)/y444\n",
    "    report = \"{:.4f}\".format(s2)+ \" ppm\"\n",
    "    t1111.config(state='normal')\n",
    "    t1111.delete('1.0', tk.END)\n",
    "    t1111.insert(tk.END,report)\n",
    "    t1111.config(state='disabled')\n",
    "\n",
    "def getalkanity():\n",
    "    dp = float(el1.get()) #p\n",
    "    mo = float(el2.get())#m\n",
    "    ys = float(el3.get())#stre\n",
    "    ysam = float(el4.get())#sam\n",
    "    mid = mo/2\n",
    "    if (dp == 0):\n",
    "        s1 = (mo*ys*50*1000)/ysam #hco3\n",
    "        result=\"Present in HCO3-\" +\" \"+ str(s1) + \"ppm\"\n",
    "    if (dp == mo):\n",
    "        s1 = (mo*ys*50*1000)/ysam #hco3\n",
    "        result = \"Present in OH-\" +\" \"+ str(s1) + \"ppm\"\n",
    "    if(dp == mid):\n",
    "        s1 = (mo*ys*50*1000)/ysam #hco3\n",
    "        result = \"Present in CO3 2-\" +\" \"+ str(s1) + \"ppm\"\n",
    "    if (dp > mid):\n",
    "        l = 2*(dp) - mo\n",
    "        s4 = l*ys*50*1000/ysam \n",
    "        t = 2*(mo-dp)\n",
    "        s5 = t*ys*50*1000/ysam\n",
    "        result = \"Present in OH-\"+\" \"+str(s4)+\" ppm\"+\" and  \"+\"present in CO3 2-\"+\"  \"+str(s5)+\" ppm\"\n",
    "    else:\n",
    "        s6 = mo - 2*(dp) \n",
    "        s6 = s6* ys*50*1000/ysam\n",
    "        s7 = 2*(dp) \n",
    "        s7 = s7*ys*50*1000/ysam\n",
    "        result = \"Present in HCO3-\"+\" \"+str(s6)+\" ppm and \"+\"present in CO3 2-\"+\" \"+str(s7)+\" ppm\"\n",
    "            \n",
    "    tal.config(state='normal')\n",
    "    tal.delete('1.0', tk.END)\n",
    "    tal.insert(tk.END,result)\n",
    "    tal.config(state='disabled')\n",
    "\n",
    "def getnor():\n",
    "    nor1 = float(el11.get())\n",
    "    nor2 = float(el22.get())\n",
    "    nor3 = float(el33.get())\n",
    "    result = (nor1*nor2*nor3)\n",
    "    rr =(result/1000)\n",
    "    report = \"{:.4f}\".format(rr)+ \"gram make to \" + str(nor3) +\" ml of water\"\n",
    "    tal1.config(state='normal')\n",
    "    tal1.delete('1.0', tk.END)\n",
    "    tal1.insert(tk.END,report)\n",
    "    tal1.config(state='disabled')\n",
    "    \n",
    " \n",
    "import tkinter as tk\n",
    "window = tk.Tk()\n",
    "window.geometry(\"1300x1000\")\n",
    "window.config(bg=\"black\")\n",
    "window.resizable(width=False,height=False)\n",
    "window.title('Water Analysis Calculator')\n",
    "#chloride \n",
    "l1 = tk.Label(window,text=\"Water Analysis Calculator!\",font=(\"Arial\", 20),fg=\"white\",bg=\"#B8860B\")\n",
    "l2 = tk.Label(window,font=(\"Arial\",12),text=\"Chlorides Of Water\",fg=\"black\",bg=\"#F7DC6F\")\n",
    "\n",
    "\n",
    "l_d=tk.Label(window,text=\"Titrate value :\",font=('Arial',12,\"bold\"),fg=\"white\",bg= '#800000')\n",
    "l_m=tk.Label(window,text=\"Strength :\",font=('Arial',12,\"bold\"),fg=\"white\",bg= '#800000')\n",
    "l_y=tk.Label(window,text=\"Sample :\",font=('Arial',12,\"bold\"),fg=\"white\",bg= '#800000')\n",
    "e1=tk.Entry(window,width=20)\n",
    "e2=tk.Entry(window,width=20)\n",
    "e3=tk.Entry(window,width=20)\n",
    " \n",
    "b1=tk.Button(window,text=\"Calculate Chlorides\",font=(\"Arial\",13),command=getchloride,bg = 'green')\n",
    " \n",
    "l3 = tk.Label(window,text=\"Chlorides in given sample :\",font=('Arial',12,\"bold\"),fg=\"darkgreen\",bg=\"#F7DC6F\")\n",
    "t1=tk.Text(window,width=20,height=0)\n",
    " \n",
    "\n",
    "\n",
    "\n",
    "#chloride \n",
    "l1.place(x=500,y=0)\n",
    "l2.place(x=100,y=40)\n",
    "l_d.place(x=100,y=70)\n",
    "l_m.place(x=100,y=95)\n",
    "l_y.place(x=100,y=120)\n",
    "e1.place(x=230,y=70)\n",
    "e2.place(x=230,y=95)\n",
    "e3.place(x=230,y=120)\n",
    "b1.place(x=100,y=150)\n",
    "l3.place(x=100,y=200)\n",
    "t1.place(x=320,y=203)\n",
    "\n",
    "#hardness\n",
    " \n",
    "\n",
    "l22 = tk.Label(window,font=(\"Arial\",12),text=\"Hardness Of Water\",fg=\"black\",bg=\"#F7DC6F\")\n",
    "l_d1=tk.Label(window,text=\"Titrate value :\",font=('Arial',12,\"bold\"),fg=\"white\",bg= '#800000')\n",
    "l_m2=tk.Label(window,text=\"Strength :\",font=('Arial',12,\"bold\"),fg=\"white\",bg= '#800000')\n",
    "l_y3=tk.Label(window,text=\"Sample :\",font=('Arial',12,\"bold\"),fg=\"white\",bg= '#800000')\n",
    "e11=tk.Entry(window,width=20)\n",
    "e22=tk.Entry(window,width=20)\n",
    "e33=tk.Entry(window,width=20)\n",
    " \n",
    "b11=tk.Button(window,text=\"Calculate Hardness\",font=(\"Arial\",13),command=gethardness,bg = 'green')\n",
    " \n",
    "l33 = tk.Label(window,text=\"Harndess in given sample :\",font=('Arial',12,\"bold\"),fg=\"darkgreen\",bg=\"#F7DC6F\")\n",
    "t11=tk.Text(window,width=20,height=0)\n",
    "\n",
    "\n",
    "l22.place(x=500,y=40)\n",
    "l_d1.place(x=500,y=70)\n",
    "l_m2.place(x=500,y=95)\n",
    "l_y3.place(x=500,y=120)\n",
    "e11.place(x=650,y=70)\n",
    "e22.place(x=650,y=95)\n",
    "e33.place(x=650,y=120)\n",
    "b11.place(x=500,y=150)\n",
    "l33.place(x=500,y=200)\n",
    "t11.place(x=715,y=203)\n",
    "\n",
    "#cod\n",
    "\n",
    "l33 = tk.Label(window,font=(\"Arial\",12),text=\"DO Of Water\",fg=\"black\",bg=\"#F7DC6F\")\n",
    "l_d11=tk.Label(window,text=\"Traitrate value :\",font=('Arial',12,\"bold\"),fg=\"white\",bg= '#800000')\n",
    "l_m22=tk.Label(window,text=\"Strenght :\",font=('Arial',12,\"bold\"),fg=\"white\",bg= '#800000')\n",
    "l_y33=tk.Label(window,text=\"Sample:\",font=('Arial',12,\"bold\"),fg=\"white\",bg= '#800000')\n",
    "e111=tk.Entry(window,width=20)\n",
    "e222=tk.Entry(window,width=20)\n",
    "e333=tk.Entry(window,width=20)\n",
    " \n",
    "b111=tk.Button(window,text=\"Calculate DO\",font=(\"Arial\",13),command=getdo,bg = 'green')\n",
    " \n",
    "l333 = tk.Label(window,text=\"DO in given sample :\",font=('Arial',12,\"bold\"),fg=\"darkgreen\",bg=\"#F7DC6F\")\n",
    "t111=tk.Text(window,width=20,height=0)\n",
    "\n",
    "\n",
    "l33.place(x=900,y=40)\n",
    "l_d11.place(x=900,y=70)\n",
    "l_m22.place(x=900,y=95)\n",
    "l_y33.place(x=900,y=120)\n",
    "e111.place(x=1050,y=70)\n",
    "e222.place(x=1050,y=95)\n",
    "e333.place(x=1050,y=120)\n",
    "b111.place(x=900,y=150)\n",
    "l333.place(x=900,y=200)\n",
    "t111.place(x=1078,y=203)\n",
    "\n",
    "#cod\n",
    "ltilecod = tk.Label(window,font=(\"Arial\",12),text=\"COD Of Water\",fg=\"black\",bg=\"#F7DC6F\")\n",
    "l_d111=tk.Label(window,text=\"Blank :\",font=('Arial',12,\"bold\"),fg=\"white\",bg= '#800000')\n",
    "l_m222=tk.Label(window,text=\"Burette value :\",font=('Arial',12,\"bold\"),fg=\"white\",bg= '#800000')\n",
    "l_y333=tk.Label(window,text=\"Strength :\",font=('Arial',12,\"bold\"),fg=\"white\",bg= '#800000')\n",
    "l_y444=tk.Label(window,text=\"Sample :\",font=('Arial',12,\"bold\"),fg=\"white\",bg= '#800000')\n",
    "e1111=tk.Entry(window,width=20)\n",
    "e2222=tk.Entry(window,width=20)\n",
    "e3333=tk.Entry(window,width=20)\n",
    "e4444=tk.Entry(window,width=20)\n",
    " \n",
    "b1111=tk.Button(window,text=\"Calculate COD\",font=(\"Arial\",13),command=getcod,bg = 'green')\n",
    " \n",
    "llablecod = tk.Label(window,text=\"COD in given sample :\",font=('Arial',12,\"bold\"),fg=\"darkgreen\",bg=\"#F7DC6F\")\n",
    "t1111=tk.Text(window,width=20,height=0)\n",
    "\n",
    "\n",
    "ltilecod.place(x=100,y=250)\n",
    "l_d111.place(x=100,y=295)\n",
    "l_m222.place(x=100,y=320)\n",
    "l_y333.place(x=100,y=345)\n",
    "l_y444.place(x=100,y=370)\n",
    "e1111.place(x=230,y=295)\n",
    "e2222.place(x=230,y=320)\n",
    "e3333.place(x=230,y=345)\n",
    "e4444.place(x=230,y=370)\n",
    "b1111.place(x=100,y=400)\n",
    "llablecod.place(x=100,y =450)\n",
    "t1111.place(x = 280,y = 450)\n",
    "\n",
    "#alkanity\n",
    "ltileal = tk.Label(window,font=(\"Arial\",12),text=\"Alkanity Of Water\",fg=\"black\",bg=\"#F7DC6F\")\n",
    "l_dp=tk.Label(window,text=\"Phenolphthalein titrate value :\",font=('Arial',12,\"bold\"),fg=\"white\",bg= '#800000')\n",
    "l_mo=tk.Label(window,text=\"Methyl orange titrate value :\",font=('Arial',12,\"bold\"),fg=\"white\",bg= '#800000')\n",
    "l_ys=tk.Label(window,text=\"Strength :\",font=('Arial',12,\"bold\"),fg=\"white\",bg= '#800000')\n",
    "l_ysam=tk.Label(window,text=\"Sample :\",font=('Arial',12,\"bold\"),fg=\"white\",bg= '#800000')\n",
    "el1=tk.Entry(window,width=20)\n",
    "el2=tk.Entry(window,width=20)\n",
    "el3=tk.Entry(window,width=20)\n",
    "el4=tk.Entry(window,width=20)\n",
    "\n",
    "bal=tk.Button(window,text=\"Calculate Alkanity\",font=(\"Arial\",13),command=getalkanity,bg = 'green')\n",
    " \n",
    "llableal = tk.Label(window,text=\"Alkanity in given sample :\",font=('Arial',12,\"bold\"),fg=\"darkgreen\",bg=\"#F7DC6F\")\n",
    "tal=tk.Text(window,width=60,height=0)\n",
    "\n",
    "\n",
    "ltileal.place(x=500,y=250)\n",
    "l_dp.place(x=500,y=295)\n",
    "l_mo.place(x=500,y=320)\n",
    "l_ys.place(x=500,y=345)\n",
    "l_ysam.place(x=500,y=370)\n",
    "el1.place(x=800,y = 295)\n",
    "el2.place(x=800,y = 320)\n",
    "el3.place(x=800,y = 345)\n",
    "el4.place(x=800,y = 370)\n",
    "bal.place(x=500,y=400)\n",
    "llableal.place(x=500,y =450)\n",
    "tal.place(x = 710,y = 455)\n",
    "\n",
    "\n",
    "\n",
    "#narmality\n",
    "lnor = tk.Label(window,font=(\"Arial\",12),text=\"Normality Calculate\",fg=\"black\",bg=\"#F7DC6F\")\n",
    "l_nor1=tk.Label(window,text=\"How much Strength of solution you have :\",font=('Arial',12,\"bold\"),fg=\"white\",bg= '#800000')\n",
    "l_nor2=tk.Label(window,text=\"Molecular weight of solution :\",font=('Arial',12,\"bold\"),fg=\"white\",bg= '#800000')\n",
    "l_nor3=tk.Label(window,text=\"How much valume of solution you have (ml) :\",font=('Arial',12,\"bold\"),fg=\"white\",bg= '#800000')\n",
    "el11=tk.Entry(window,width=20)\n",
    "el22=tk.Entry(window,width=20)\n",
    "el33=tk.Entry(window,width=20)\n",
    "\n",
    "normal=tk.Button(window,text=\"Calculate Normality\",font=(\"Arial\",13),command=getnor,bg = 'green')\n",
    " \n",
    "norlabel = tk.Label(window,text=\"Take weight of solution :\",font=('Arial',12,\"bold\"),fg=\"darkgreen\",bg=\"#F7DC6F\")\n",
    "tal1=tk.Text(window,width=60,height=0)\n",
    "\n",
    "\n",
    "lnor.place(x=100,y=500)\n",
    "l_nor1.place(x=100,y=540)\n",
    "l_nor2.place(x=100,y=565)\n",
    "l_nor3.place(x=100,y=590)\n",
    "el11.place(x=500,y = 540)\n",
    "el22.place(x=500,y = 565)\n",
    "el33.place(x=500,y = 590)\n",
    "normal.place(x = 100,y=620)\n",
    "norlabel.place(x = 300,y = 620)\n",
    "tal1.place(x = 500,y = 620)\n",
    "\n",
    "\n",
    "#exit\n",
    "\n",
    "b2=tk.Button(window,text=\"Exit Application!\",font=(\"Arial\",13),command=exit,bg = 'red')\n",
    "b2.place(x=1030,y=600)\n",
    "\n",
    "window.mainloop()"
   ]
  },
  {
   "cell_type": "code",
   "execution_count": null,
   "id": "dc1db405",
   "metadata": {},
   "outputs": [],
   "source": []
  },
  {
   "cell_type": "code",
   "execution_count": null,
   "id": "69d7d19b",
   "metadata": {},
   "outputs": [],
   "source": []
  }
 ],
 "metadata": {
  "kernelspec": {
   "display_name": "Python 3 (ipykernel)",
   "language": "python",
   "name": "python3"
  },
  "language_info": {
   "codemirror_mode": {
    "name": "ipython",
    "version": 3
   },
   "file_extension": ".py",
   "mimetype": "text/x-python",
   "name": "python",
   "nbconvert_exporter": "python",
   "pygments_lexer": "ipython3",
   "version": "3.8.8"
  }
 },
 "nbformat": 4,
 "nbformat_minor": 5
}
